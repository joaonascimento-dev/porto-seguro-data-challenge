{
 "cells": [
  {
   "cell_type": "markdown",
   "metadata": {
    "tags": []
   },
   "source": [
    "# Porto Seguro Data Challenge\n",
    "https://www.kaggle.com/competitions/porto-seguro-data-challenge/overview\n",
    "\n",
    "Você provavelmente já recebeu uma ligação de telemarketing oferecendo um produto que você não precisa. Essa situação de estresse é minimizada quando você oferece um produto que o cliente realmente precisa.\n",
    "\n",
    "Nessa competição você será desafiado a construir um **modelo que prediz a probabilidade de aquisição de um produto**\\."
   ]
  },
  {
   "cell_type": "markdown",
   "metadata": {},
   "source": [
    "## Importações"
   ]
  },
  {
   "cell_type": "code",
   "execution_count": 1,
   "metadata": {},
   "outputs": [],
   "source": [
    "import pandas as pd\n",
    "\n",
    "from sklearn.model_selection import train_test_split\n",
    "from sklearn.linear_model import LogisticRegression\n",
    "from sklearn.neighbors import KNeighborsClassifier\n",
    "from sklearn.metrics import classification_report\n",
    "\n",
    "from sklearn import metrics\n",
    "from sklearn.metrics import confusion_matrix\n",
    "\n",
    "from xgboost import XGBClassifier\n",
    "\n",
    "from imblearn.over_sampling import SMOTE\n",
    "from collections import Counter\n"
   ]
  },
  {
   "cell_type": "markdown",
   "metadata": {},
   "source": [
    "## Definição de Funções"
   ]
  },
  {
   "cell_type": "code",
   "execution_count": 2,
   "metadata": {},
   "outputs": [],
   "source": [
    "def generate_performance_stats(y_test, y_pred):\n",
    "    # Cobinando os valores encontrados com os valores atuais\n",
    "    pd.DataFrame(data={'Rótulo Atual': y_test, 'Rótulo Predito': y_pred}).head()\n",
    "    #apresentando os resultados pela Matriz de COnfusão\n",
    "\n",
    "    cm = confusion_matrix(y_test, y_pred)\n",
    "    print(\"Accuracy: {}\\n\".format(metrics.accuracy_score(y_test,y_pred)))\n",
    "    print(\"F1-score: {}\\n\".format(metrics.f1_score(y_test, y_pred)))\n",
    "    print(\"Confusion Matrix: \\n{}\\n\".format(pd.crosstab(y_test, y_pred, rownames=['Actual'], colnames=['Predicted'])))\n",
    "    from sklearn.metrics import plot_confusion_matrix\n",
    "    #ConfusionMatrixDisplay()\n",
    "    plot_confusion_matrix(clf, X_test, y_test, cmap='Blues')\n",
    "        # Relatório da Classificação\n",
    "    from sklearn.metrics import classification_report\n",
    "    print(classification_report(y_test, y_pred))"
   ]
  },
  {
   "cell_type": "markdown",
   "metadata": {},
   "source": [
    "## Carregar a base de dados"
   ]
  },
  {
   "cell_type": "code",
   "execution_count": 3,
   "metadata": {},
   "outputs": [],
   "source": [
    "raw_data = pd.read_csv('./input/train.csv', sep=',')"
   ]
  },
  {
   "cell_type": "code",
   "execution_count": 4,
   "metadata": {},
   "outputs": [
    {
     "data": {
      "text/plain": "(14123, 70)"
     },
     "execution_count": 4,
     "metadata": {},
     "output_type": "execute_result"
    }
   ],
   "source": [
    "raw_data.shape"
   ]
  },
  {
   "cell_type": "markdown",
   "metadata": {},
   "source": [
    "**Não existem valores faltantes NA (not available), mas parecem terem sido substituídos por -999**"
   ]
  },
  {
   "cell_type": "code",
   "execution_count": 5,
   "metadata": {},
   "outputs": [],
   "source": [
    "#Deletar a coluna id\n",
    "raw_data.drop(['id'], axis=1, inplace=True)"
   ]
  },
  {
   "cell_type": "code",
   "execution_count": 6,
   "outputs": [
    {
     "data": {
      "text/plain": "       var1  var2  var3   var4  var5  var6  var7  var8  var9  var10  ...  \\\n0        18    19  2853  29442  1386  2435    35  -999     3     63  ...   \n1         4   110  1986  13684  7189  -999  -999    17     3     63  ...   \n2         0    39  1019  10232   678   791    16  -999     3     63  ...   \n3        20    39  1751   2689  8235  1042    13    10     1     14  ...   \n4         7    44  2262  29428  6031   304    16  -999     3     63  ...   \n...     ...   ...   ...    ...   ...   ...   ...   ...   ...    ...  ...   \n14118     4    39  2511  28766  1109  2094    31    24     3   -999  ...   \n14119    19   129  1114   -999  6376  -999  -999    27  -999   -999  ...   \n14120    27    44  1786  23761  9048   623    35    27     3     14  ...   \n14121     4    89   210  19593  3634  2453    35    27     1     63  ...   \n14122    21    53   568   4612  4982  1438    33    25     3     63  ...   \n\n            var60       var61     var62     var63     var64       var65  \\\n0        0.311441    0.142303  0.056146  0.632694  0.024054    0.253356   \n1     -999.000000 -999.000000  0.070991  0.773966  0.019315 -999.000000   \n2     -999.000000    0.200814  0.051046  0.980827  0.018536 -999.000000   \n3     -999.000000    0.352379  0.044301  0.951564  0.023684    0.363370   \n4        0.021226    0.226161  0.059125  0.906155  0.020733 -999.000000   \n...           ...         ...       ...       ...       ...         ...   \n14118 -999.000000    0.069347  0.036178  0.869828  0.016160 -999.000000   \n14119 -999.000000    0.295418  0.055899  0.921292  0.018293 -999.000000   \n14120 -999.000000    0.203394  0.040697  0.930373  0.009440 -999.000000   \n14121    0.070788    0.381038  0.100384  0.680121  0.041096 -999.000000   \n14122 -999.000000    0.229701  0.125199  0.877901  0.046154 -999.000000   \n\n           var66     var67     var68  y  \n0        0.00603  0.132353  0.139706  1  \n1     -999.00000  0.147059  0.106618  0  \n2     -999.00000  0.382353  0.242647  0  \n3        0.00201  0.147059  0.132353  0  \n4     -999.00000  0.455882  0.132353  1  \n...          ...       ...       ... ..  \n14118 -999.00000  0.455882  0.147059  0  \n14119 -999.00000  0.147059  0.198529  0  \n14120 -999.00000  0.397059  0.158088  0  \n14121 -999.00000  0.264706  0.128676  0  \n14122 -999.00000  0.176471  0.128676  0  \n\n[14123 rows x 69 columns]",
      "text/html": "<div>\n<style scoped>\n    .dataframe tbody tr th:only-of-type {\n        vertical-align: middle;\n    }\n\n    .dataframe tbody tr th {\n        vertical-align: top;\n    }\n\n    .dataframe thead th {\n        text-align: right;\n    }\n</style>\n<table border=\"1\" class=\"dataframe\">\n  <thead>\n    <tr style=\"text-align: right;\">\n      <th></th>\n      <th>var1</th>\n      <th>var2</th>\n      <th>var3</th>\n      <th>var4</th>\n      <th>var5</th>\n      <th>var6</th>\n      <th>var7</th>\n      <th>var8</th>\n      <th>var9</th>\n      <th>var10</th>\n      <th>...</th>\n      <th>var60</th>\n      <th>var61</th>\n      <th>var62</th>\n      <th>var63</th>\n      <th>var64</th>\n      <th>var65</th>\n      <th>var66</th>\n      <th>var67</th>\n      <th>var68</th>\n      <th>y</th>\n    </tr>\n  </thead>\n  <tbody>\n    <tr>\n      <th>0</th>\n      <td>18</td>\n      <td>19</td>\n      <td>2853</td>\n      <td>29442</td>\n      <td>1386</td>\n      <td>2435</td>\n      <td>35</td>\n      <td>-999</td>\n      <td>3</td>\n      <td>63</td>\n      <td>...</td>\n      <td>0.311441</td>\n      <td>0.142303</td>\n      <td>0.056146</td>\n      <td>0.632694</td>\n      <td>0.024054</td>\n      <td>0.253356</td>\n      <td>0.00603</td>\n      <td>0.132353</td>\n      <td>0.139706</td>\n      <td>1</td>\n    </tr>\n    <tr>\n      <th>1</th>\n      <td>4</td>\n      <td>110</td>\n      <td>1986</td>\n      <td>13684</td>\n      <td>7189</td>\n      <td>-999</td>\n      <td>-999</td>\n      <td>17</td>\n      <td>3</td>\n      <td>63</td>\n      <td>...</td>\n      <td>-999.000000</td>\n      <td>-999.000000</td>\n      <td>0.070991</td>\n      <td>0.773966</td>\n      <td>0.019315</td>\n      <td>-999.000000</td>\n      <td>-999.00000</td>\n      <td>0.147059</td>\n      <td>0.106618</td>\n      <td>0</td>\n    </tr>\n    <tr>\n      <th>2</th>\n      <td>0</td>\n      <td>39</td>\n      <td>1019</td>\n      <td>10232</td>\n      <td>678</td>\n      <td>791</td>\n      <td>16</td>\n      <td>-999</td>\n      <td>3</td>\n      <td>63</td>\n      <td>...</td>\n      <td>-999.000000</td>\n      <td>0.200814</td>\n      <td>0.051046</td>\n      <td>0.980827</td>\n      <td>0.018536</td>\n      <td>-999.000000</td>\n      <td>-999.00000</td>\n      <td>0.382353</td>\n      <td>0.242647</td>\n      <td>0</td>\n    </tr>\n    <tr>\n      <th>3</th>\n      <td>20</td>\n      <td>39</td>\n      <td>1751</td>\n      <td>2689</td>\n      <td>8235</td>\n      <td>1042</td>\n      <td>13</td>\n      <td>10</td>\n      <td>1</td>\n      <td>14</td>\n      <td>...</td>\n      <td>-999.000000</td>\n      <td>0.352379</td>\n      <td>0.044301</td>\n      <td>0.951564</td>\n      <td>0.023684</td>\n      <td>0.363370</td>\n      <td>0.00201</td>\n      <td>0.147059</td>\n      <td>0.132353</td>\n      <td>0</td>\n    </tr>\n    <tr>\n      <th>4</th>\n      <td>7</td>\n      <td>44</td>\n      <td>2262</td>\n      <td>29428</td>\n      <td>6031</td>\n      <td>304</td>\n      <td>16</td>\n      <td>-999</td>\n      <td>3</td>\n      <td>63</td>\n      <td>...</td>\n      <td>0.021226</td>\n      <td>0.226161</td>\n      <td>0.059125</td>\n      <td>0.906155</td>\n      <td>0.020733</td>\n      <td>-999.000000</td>\n      <td>-999.00000</td>\n      <td>0.455882</td>\n      <td>0.132353</td>\n      <td>1</td>\n    </tr>\n    <tr>\n      <th>...</th>\n      <td>...</td>\n      <td>...</td>\n      <td>...</td>\n      <td>...</td>\n      <td>...</td>\n      <td>...</td>\n      <td>...</td>\n      <td>...</td>\n      <td>...</td>\n      <td>...</td>\n      <td>...</td>\n      <td>...</td>\n      <td>...</td>\n      <td>...</td>\n      <td>...</td>\n      <td>...</td>\n      <td>...</td>\n      <td>...</td>\n      <td>...</td>\n      <td>...</td>\n      <td>...</td>\n    </tr>\n    <tr>\n      <th>14118</th>\n      <td>4</td>\n      <td>39</td>\n      <td>2511</td>\n      <td>28766</td>\n      <td>1109</td>\n      <td>2094</td>\n      <td>31</td>\n      <td>24</td>\n      <td>3</td>\n      <td>-999</td>\n      <td>...</td>\n      <td>-999.000000</td>\n      <td>0.069347</td>\n      <td>0.036178</td>\n      <td>0.869828</td>\n      <td>0.016160</td>\n      <td>-999.000000</td>\n      <td>-999.00000</td>\n      <td>0.455882</td>\n      <td>0.147059</td>\n      <td>0</td>\n    </tr>\n    <tr>\n      <th>14119</th>\n      <td>19</td>\n      <td>129</td>\n      <td>1114</td>\n      <td>-999</td>\n      <td>6376</td>\n      <td>-999</td>\n      <td>-999</td>\n      <td>27</td>\n      <td>-999</td>\n      <td>-999</td>\n      <td>...</td>\n      <td>-999.000000</td>\n      <td>0.295418</td>\n      <td>0.055899</td>\n      <td>0.921292</td>\n      <td>0.018293</td>\n      <td>-999.000000</td>\n      <td>-999.00000</td>\n      <td>0.147059</td>\n      <td>0.198529</td>\n      <td>0</td>\n    </tr>\n    <tr>\n      <th>14120</th>\n      <td>27</td>\n      <td>44</td>\n      <td>1786</td>\n      <td>23761</td>\n      <td>9048</td>\n      <td>623</td>\n      <td>35</td>\n      <td>27</td>\n      <td>3</td>\n      <td>14</td>\n      <td>...</td>\n      <td>-999.000000</td>\n      <td>0.203394</td>\n      <td>0.040697</td>\n      <td>0.930373</td>\n      <td>0.009440</td>\n      <td>-999.000000</td>\n      <td>-999.00000</td>\n      <td>0.397059</td>\n      <td>0.158088</td>\n      <td>0</td>\n    </tr>\n    <tr>\n      <th>14121</th>\n      <td>4</td>\n      <td>89</td>\n      <td>210</td>\n      <td>19593</td>\n      <td>3634</td>\n      <td>2453</td>\n      <td>35</td>\n      <td>27</td>\n      <td>1</td>\n      <td>63</td>\n      <td>...</td>\n      <td>0.070788</td>\n      <td>0.381038</td>\n      <td>0.100384</td>\n      <td>0.680121</td>\n      <td>0.041096</td>\n      <td>-999.000000</td>\n      <td>-999.00000</td>\n      <td>0.264706</td>\n      <td>0.128676</td>\n      <td>0</td>\n    </tr>\n    <tr>\n      <th>14122</th>\n      <td>21</td>\n      <td>53</td>\n      <td>568</td>\n      <td>4612</td>\n      <td>4982</td>\n      <td>1438</td>\n      <td>33</td>\n      <td>25</td>\n      <td>3</td>\n      <td>63</td>\n      <td>...</td>\n      <td>-999.000000</td>\n      <td>0.229701</td>\n      <td>0.125199</td>\n      <td>0.877901</td>\n      <td>0.046154</td>\n      <td>-999.000000</td>\n      <td>-999.00000</td>\n      <td>0.176471</td>\n      <td>0.128676</td>\n      <td>0</td>\n    </tr>\n  </tbody>\n</table>\n<p>14123 rows × 69 columns</p>\n</div>"
     },
     "execution_count": 6,
     "metadata": {},
     "output_type": "execute_result"
    }
   ],
   "source": [
    "# Checkpoint da base de dados bruta\n",
    "df_train = raw_data.copy()\n",
    "df_train"
   ],
   "metadata": {
    "collapsed": false,
    "pycharm": {
     "name": "#%%\n"
    }
   }
  },
  {
   "cell_type": "markdown",
   "metadata": {},
   "source": [
    "## Primeira abordagem - desbalanceada\n",
    "Treinar modelos mantendo a base desbalanceada.\n",
    "70% para treinamento - 30% para validação"
   ]
  },
  {
   "cell_type": "code",
   "execution_count": 7,
   "outputs": [],
   "source": [
    "# definindo os recuros de entrada(X) e saida(y)\n",
    "X = df_train.loc[:, df_train.columns != 'y']\n",
    "y = df_train['y']"
   ],
   "metadata": {
    "collapsed": false,
    "pycharm": {
     "name": "#%%\n"
    }
   }
  },
  {
   "cell_type": "code",
   "execution_count": 8,
   "metadata": {},
   "outputs": [],
   "source": [
    "# separando os dados de treino e teste\n",
    "X_train, X_test, y_train, y_test = train_test_split(X, y,\n",
    "                                                    test_size = 0.30,\n",
    "                                                    shuffle=True,\n",
    "                                                    random_state=42)"
   ]
  },
  {
   "cell_type": "code",
   "execution_count": 9,
   "metadata": {},
   "outputs": [
    {
     "data": {
      "text/plain": "XGBClassifier(base_score=0.5, booster='gbtree', callbacks=None,\n              colsample_bylevel=1, colsample_bynode=1, colsample_bytree=1,\n              early_stopping_rounds=None, enable_categorical=False,\n              eval_metric=None, gamma=0, gpu_id=-1, grow_policy='depthwise',\n              importance_type=None, interaction_constraints='',\n              learning_rate=0.01, max_bin=256, max_cat_to_onehot=4,\n              max_delta_step=0, max_depth=10, max_leaves=0, min_child_weight=1,\n              missing=nan, monotone_constraints='()', n_estimators=650,\n              n_jobs=0, num_parallel_tree=1, predictor='auto', random_state=42,\n              reg_alpha=0, reg_lambda=1, ...)",
      "text/html": "<style>#sk-container-id-1 {color: black;background-color: white;}#sk-container-id-1 pre{padding: 0;}#sk-container-id-1 div.sk-toggleable {background-color: white;}#sk-container-id-1 label.sk-toggleable__label {cursor: pointer;display: block;width: 100%;margin-bottom: 0;padding: 0.3em;box-sizing: border-box;text-align: center;}#sk-container-id-1 label.sk-toggleable__label-arrow:before {content: \"▸\";float: left;margin-right: 0.25em;color: #696969;}#sk-container-id-1 label.sk-toggleable__label-arrow:hover:before {color: black;}#sk-container-id-1 div.sk-estimator:hover label.sk-toggleable__label-arrow:before {color: black;}#sk-container-id-1 div.sk-toggleable__content {max-height: 0;max-width: 0;overflow: hidden;text-align: left;background-color: #f0f8ff;}#sk-container-id-1 div.sk-toggleable__content pre {margin: 0.2em;color: black;border-radius: 0.25em;background-color: #f0f8ff;}#sk-container-id-1 input.sk-toggleable__control:checked~div.sk-toggleable__content {max-height: 200px;max-width: 100%;overflow: auto;}#sk-container-id-1 input.sk-toggleable__control:checked~label.sk-toggleable__label-arrow:before {content: \"▾\";}#sk-container-id-1 div.sk-estimator input.sk-toggleable__control:checked~label.sk-toggleable__label {background-color: #d4ebff;}#sk-container-id-1 div.sk-label input.sk-toggleable__control:checked~label.sk-toggleable__label {background-color: #d4ebff;}#sk-container-id-1 input.sk-hidden--visually {border: 0;clip: rect(1px 1px 1px 1px);clip: rect(1px, 1px, 1px, 1px);height: 1px;margin: -1px;overflow: hidden;padding: 0;position: absolute;width: 1px;}#sk-container-id-1 div.sk-estimator {font-family: monospace;background-color: #f0f8ff;border: 1px dotted black;border-radius: 0.25em;box-sizing: border-box;margin-bottom: 0.5em;}#sk-container-id-1 div.sk-estimator:hover {background-color: #d4ebff;}#sk-container-id-1 div.sk-parallel-item::after {content: \"\";width: 100%;border-bottom: 1px solid gray;flex-grow: 1;}#sk-container-id-1 div.sk-label:hover label.sk-toggleable__label {background-color: #d4ebff;}#sk-container-id-1 div.sk-serial::before {content: \"\";position: absolute;border-left: 1px solid gray;box-sizing: border-box;top: 0;bottom: 0;left: 50%;z-index: 0;}#sk-container-id-1 div.sk-serial {display: flex;flex-direction: column;align-items: center;background-color: white;padding-right: 0.2em;padding-left: 0.2em;position: relative;}#sk-container-id-1 div.sk-item {position: relative;z-index: 1;}#sk-container-id-1 div.sk-parallel {display: flex;align-items: stretch;justify-content: center;background-color: white;position: relative;}#sk-container-id-1 div.sk-item::before, #sk-container-id-1 div.sk-parallel-item::before {content: \"\";position: absolute;border-left: 1px solid gray;box-sizing: border-box;top: 0;bottom: 0;left: 50%;z-index: -1;}#sk-container-id-1 div.sk-parallel-item {display: flex;flex-direction: column;z-index: 1;position: relative;background-color: white;}#sk-container-id-1 div.sk-parallel-item:first-child::after {align-self: flex-end;width: 50%;}#sk-container-id-1 div.sk-parallel-item:last-child::after {align-self: flex-start;width: 50%;}#sk-container-id-1 div.sk-parallel-item:only-child::after {width: 0;}#sk-container-id-1 div.sk-dashed-wrapped {border: 1px dashed gray;margin: 0 0.4em 0.5em 0.4em;box-sizing: border-box;padding-bottom: 0.4em;background-color: white;}#sk-container-id-1 div.sk-label label {font-family: monospace;font-weight: bold;display: inline-block;line-height: 1.2em;}#sk-container-id-1 div.sk-label-container {text-align: center;}#sk-container-id-1 div.sk-container {/* jupyter's `normalize.less` sets `[hidden] { display: none; }` but bootstrap.min.css set `[hidden] { display: none !important; }` so we also need the `!important` here to be able to override the default hidden behavior on the sphinx rendered scikit-learn.org. See: https://github.com/scikit-learn/scikit-learn/issues/21755 */display: inline-block !important;position: relative;}#sk-container-id-1 div.sk-text-repr-fallback {display: none;}</style><div id=\"sk-container-id-1\" class=\"sk-top-container\"><div class=\"sk-text-repr-fallback\"><pre>XGBClassifier(base_score=0.5, booster=&#x27;gbtree&#x27;, callbacks=None,\n              colsample_bylevel=1, colsample_bynode=1, colsample_bytree=1,\n              early_stopping_rounds=None, enable_categorical=False,\n              eval_metric=None, gamma=0, gpu_id=-1, grow_policy=&#x27;depthwise&#x27;,\n              importance_type=None, interaction_constraints=&#x27;&#x27;,\n              learning_rate=0.01, max_bin=256, max_cat_to_onehot=4,\n              max_delta_step=0, max_depth=10, max_leaves=0, min_child_weight=1,\n              missing=nan, monotone_constraints=&#x27;()&#x27;, n_estimators=650,\n              n_jobs=0, num_parallel_tree=1, predictor=&#x27;auto&#x27;, random_state=42,\n              reg_alpha=0, reg_lambda=1, ...)</pre><b>In a Jupyter environment, please rerun this cell to show the HTML representation or trust the notebook. <br />On GitHub, the HTML representation is unable to render, please try loading this page with nbviewer.org.</b></div><div class=\"sk-container\" hidden><div class=\"sk-item\"><div class=\"sk-estimator sk-toggleable\"><input class=\"sk-toggleable__control sk-hidden--visually\" id=\"sk-estimator-id-1\" type=\"checkbox\" checked><label for=\"sk-estimator-id-1\" class=\"sk-toggleable__label sk-toggleable__label-arrow\">XGBClassifier</label><div class=\"sk-toggleable__content\"><pre>XGBClassifier(base_score=0.5, booster=&#x27;gbtree&#x27;, callbacks=None,\n              colsample_bylevel=1, colsample_bynode=1, colsample_bytree=1,\n              early_stopping_rounds=None, enable_categorical=False,\n              eval_metric=None, gamma=0, gpu_id=-1, grow_policy=&#x27;depthwise&#x27;,\n              importance_type=None, interaction_constraints=&#x27;&#x27;,\n              learning_rate=0.01, max_bin=256, max_cat_to_onehot=4,\n              max_delta_step=0, max_depth=10, max_leaves=0, min_child_weight=1,\n              missing=nan, monotone_constraints=&#x27;()&#x27;, n_estimators=650,\n              n_jobs=0, num_parallel_tree=1, predictor=&#x27;auto&#x27;, random_state=42,\n              reg_alpha=0, reg_lambda=1, ...)</pre></div></div></div></div></div>"
     },
     "execution_count": 9,
     "metadata": {},
     "output_type": "execute_result"
    }
   ],
   "source": [
    "# Treinar um modelo usando um algoritmo de árvore de decisão  que utiliza uma estrutura de Gradient Boosting\n",
    "clf = XGBClassifier(n_estimators = 650,\n",
    "                    max_depth = 10,\n",
    "                    learning_rate = 0.01,\n",
    "                    subsample = 1,\n",
    "                    random_state=42)\n",
    "clf.fit(X_train, y_train)"
   ]
  },
  {
   "cell_type": "code",
   "execution_count": 10,
   "metadata": {},
   "outputs": [],
   "source": [
    "# fazendo a predição com os dados de teste\n",
    "y_pred = clf.predict(X_test)"
   ]
  },
  {
   "cell_type": "code",
   "execution_count": 11,
   "outputs": [
    {
     "name": "stdout",
     "output_type": "stream",
     "text": [
      "Accuracy: 0.8640547557233892\n",
      "\n",
      "F1-score: 0.6245110821382007\n",
      "\n",
      "Confusion Matrix: \n",
      "Predicted     0    1\n",
      "Actual              \n",
      "0          3182  151\n",
      "1           425  479\n",
      "\n"
     ]
    },
    {
     "name": "stderr",
     "output_type": "stream",
     "text": [
      "C:\\Python\\Python310\\lib\\site-packages\\sklearn\\utils\\deprecation.py:87: FutureWarning: Function plot_confusion_matrix is deprecated; Function `plot_confusion_matrix` is deprecated in 1.0 and will be removed in 1.2. Use one of the class methods: ConfusionMatrixDisplay.from_predictions or ConfusionMatrixDisplay.from_estimator.\n",
      "  warnings.warn(msg, category=FutureWarning)\n"
     ]
    },
    {
     "name": "stdout",
     "output_type": "stream",
     "text": [
      "              precision    recall  f1-score   support\n",
      "\n",
      "           0       0.88      0.95      0.92      3333\n",
      "           1       0.76      0.53      0.62       904\n",
      "\n",
      "    accuracy                           0.86      4237\n",
      "   macro avg       0.82      0.74      0.77      4237\n",
      "weighted avg       0.86      0.86      0.85      4237\n",
      "\n"
     ]
    },
    {
     "data": {
      "text/plain": "<Figure size 432x288 with 2 Axes>",
      "image/png": "[encoded data removed]"
     },
     "metadata": {
      "needs_background": "light"
     },
     "output_type": "display_data"
    }
   ],
   "source": [
    "#Avaliar o modelo com base em algumas métricas de desempenho\n",
    "generate_performance_stats(y_test, y_pred)"
   ],
   "metadata": {
    "collapsed": false,
    "pycharm": {
     "name": "#%%\n"
    }
   }
  },
  {
   "cell_type": "markdown",
   "metadata": {},
   "source": [
    "### Obter as features mais importantes"
   ]
  },
  {
   "cell_type": "code",
   "execution_count": 12,
   "metadata": {},
   "outputs": [],
   "source": [
    "df_featImport = pd.DataFrame(columns=['feature', 'feat_importance'])"
   ]
  },
  {
   "cell_type": "code",
   "execution_count": 13,
   "metadata": {},
   "outputs": [
    {
     "data": {
      "text/plain": "   feature  feat_importance\n7     var8         0.081255\n6     var7         0.080238\n3     var4         0.074881\n49   var50         0.022376\n5     var6         0.021249\n53   var54         0.020344\n0     var1         0.018160\n22   var23         0.017895\n55   var56         0.017639\n13   var14         0.016097",
      "text/html": "<div>\n<style scoped>\n    .dataframe tbody tr th:only-of-type {\n        vertical-align: middle;\n    }\n\n    .dataframe tbody tr th {\n        vertical-align: top;\n    }\n\n    .dataframe thead th {\n        text-align: right;\n    }\n</style>\n<table border=\"1\" class=\"dataframe\">\n  <thead>\n    <tr style=\"text-align: right;\">\n      <th></th>\n      <th>feature</th>\n      <th>feat_importance</th>\n    </tr>\n  </thead>\n  <tbody>\n    <tr>\n      <th>7</th>\n      <td>var8</td>\n      <td>0.081255</td>\n    </tr>\n    <tr>\n      <th>6</th>\n      <td>var7</td>\n      <td>0.080238</td>\n    </tr>\n    <tr>\n      <th>3</th>\n      <td>var4</td>\n      <td>0.074881</td>\n    </tr>\n    <tr>\n      <th>49</th>\n      <td>var50</td>\n      <td>0.022376</td>\n    </tr>\n    <tr>\n      <th>5</th>\n      <td>var6</td>\n      <td>0.021249</td>\n    </tr>\n    <tr>\n      <th>53</th>\n      <td>var54</td>\n      <td>0.020344</td>\n    </tr>\n    <tr>\n      <th>0</th>\n      <td>var1</td>\n      <td>0.018160</td>\n    </tr>\n    <tr>\n      <th>22</th>\n      <td>var23</td>\n      <td>0.017895</td>\n    </tr>\n    <tr>\n      <th>55</th>\n      <td>var56</td>\n      <td>0.017639</td>\n    </tr>\n    <tr>\n      <th>13</th>\n      <td>var14</td>\n      <td>0.016097</td>\n    </tr>\n  </tbody>\n</table>\n</div>"
     },
     "execution_count": 13,
     "metadata": {},
     "output_type": "execute_result"
    }
   ],
   "source": [
    "df_featImport['feature'] = X_test.columns\n",
    "df_featImport['feat_importance'] = clf.feature_importances_\n",
    "df_featImport = df_featImport.sort_values(by='feat_importance', ascending=False)\n",
    "df_featImport[0:10]"
   ]
  },
  {
   "cell_type": "markdown",
   "metadata": {},
   "source": [
    "## Testar o modelo na base de teste"
   ]
  },
  {
   "cell_type": "code",
   "execution_count": 14,
   "outputs": [],
   "source": [
    "# Carregar a base de teste\n",
    "raw_data_test = pd.read_csv('./input/test.csv', sep=',')\n",
    "df_test = raw_data_test.copy()"
   ],
   "metadata": {
    "collapsed": false,
    "pycharm": {
     "name": "#%%\n"
    }
   }
  },
  {
   "cell_type": "code",
   "execution_count": 15,
   "metadata": {},
   "outputs": [],
   "source": [
    "# Remover coluna ID\n",
    "df_test.drop(['id'], axis=1, inplace=True)"
   ]
  },
  {
   "cell_type": "code",
   "execution_count": 16,
   "metadata": {},
   "outputs": [],
   "source": [
    "# Utilizar toda a base de treinamento para treinar o modelo final (treinamento + validação)\n",
    "X_test = df_test\n",
    "y_pred = clf.predict(X_test)"
   ]
  },
  {
   "cell_type": "markdown",
   "metadata": {},
   "source": [
    "## Criar arquivo para submissão"
   ]
  },
  {
   "cell_type": "code",
   "execution_count": 17,
   "metadata": {},
   "outputs": [
    {
     "data": {
      "text/plain": "   id  predicted\n0   0          1\n1   2          1\n2   4          1\n3   7          0\n4  15          1",
      "text/html": "<div>\n<style scoped>\n    .dataframe tbody tr th:only-of-type {\n        vertical-align: middle;\n    }\n\n    .dataframe tbody tr th {\n        vertical-align: top;\n    }\n\n    .dataframe thead th {\n        text-align: right;\n    }\n</style>\n<table border=\"1\" class=\"dataframe\">\n  <thead>\n    <tr style=\"text-align: right;\">\n      <th></th>\n      <th>id</th>\n      <th>predicted</th>\n    </tr>\n  </thead>\n  <tbody>\n    <tr>\n      <th>0</th>\n      <td>0</td>\n      <td>1</td>\n    </tr>\n    <tr>\n      <th>1</th>\n      <td>2</td>\n      <td>1</td>\n    </tr>\n    <tr>\n      <th>2</th>\n      <td>4</td>\n      <td>1</td>\n    </tr>\n    <tr>\n      <th>3</th>\n      <td>7</td>\n      <td>0</td>\n    </tr>\n    <tr>\n      <th>4</th>\n      <td>15</td>\n      <td>1</td>\n    </tr>\n  </tbody>\n</table>\n</div>"
     },
     "execution_count": 17,
     "metadata": {},
     "output_type": "execute_result"
    }
   ],
   "source": [
    "df_submission = pd.read_csv('./input/submission_sample.csv', sep=',')\n",
    "df_submission.head()"
   ]
  },
  {
   "cell_type": "code",
   "execution_count": 18,
   "metadata": {},
   "outputs": [
    {
     "data": {
      "text/plain": "   id  predicted\n0   0          1\n1   2          1\n2   4          0\n3   7          0\n4  15          0",
      "text/html": "<div>\n<style scoped>\n    .dataframe tbody tr th:only-of-type {\n        vertical-align: middle;\n    }\n\n    .dataframe tbody tr th {\n        vertical-align: top;\n    }\n\n    .dataframe thead th {\n        text-align: right;\n    }\n</style>\n<table border=\"1\" class=\"dataframe\">\n  <thead>\n    <tr style=\"text-align: right;\">\n      <th></th>\n      <th>id</th>\n      <th>predicted</th>\n    </tr>\n  </thead>\n  <tbody>\n    <tr>\n      <th>0</th>\n      <td>0</td>\n      <td>1</td>\n    </tr>\n    <tr>\n      <th>1</th>\n      <td>2</td>\n      <td>1</td>\n    </tr>\n    <tr>\n      <th>2</th>\n      <td>4</td>\n      <td>0</td>\n    </tr>\n    <tr>\n      <th>3</th>\n      <td>7</td>\n      <td>0</td>\n    </tr>\n    <tr>\n      <th>4</th>\n      <td>15</td>\n      <td>0</td>\n    </tr>\n  </tbody>\n</table>\n</div>"
     },
     "execution_count": 18,
     "metadata": {},
     "output_type": "execute_result"
    }
   ],
   "source": [
    "df_submission['predicted'] = y_pred\n",
    "df_submission.head()"
   ]
  },
  {
   "cell_type": "code",
   "execution_count": 19,
   "metadata": {},
   "outputs": [],
   "source": [
    "# Salvar o arquivo para submissão\n",
    "df_submission.to_csv('./output/benchmarkunbalaced.csv', index=False, sep=\",\", encoding='utf-8')"
   ]
  },
  {
   "cell_type": "markdown",
   "source": [
    "## Segunda abordagem - Balanceada\n",
    "Treinar modelos balanceando a base.\n",
    "70% para treinamento - 30% para validação"
   ],
   "metadata": {
    "collapsed": false,
    "pycharm": {
     "name": "#%% md\n"
    }
   }
  },
  {
   "cell_type": "code",
   "execution_count": 20,
   "outputs": [],
   "source": [
    "# definindo os recuros de entrada(X) e saida(y)\n",
    "X = df_train.loc[:, df_train.columns != 'y']\n",
    "y = df_train['y']"
   ],
   "metadata": {
    "collapsed": false,
    "pycharm": {
     "name": "#%%\n"
    }
   }
  },
  {
   "cell_type": "code",
   "execution_count": 21,
   "outputs": [],
   "source": [
    "# executa o balanceamento usando a técnica SMOTE\n",
    "oversample = SMOTE()\n",
    "X, y = oversample.fit_resample(X, y)"
   ],
   "metadata": {
    "collapsed": false,
    "pycharm": {
     "name": "#%%\n"
    }
   }
  },
  {
   "cell_type": "code",
   "execution_count": 22,
   "outputs": [
    {
     "name": "stdout",
     "output_type": "stream",
     "text": [
      "Counter({1: 11273, 0: 11273})\n"
     ]
    }
   ],
   "source": [
    "# realiza a contagem das classes\n",
    "contagem = Counter(y)\n",
    "print(contagem)"
   ],
   "metadata": {
    "collapsed": false,
    "pycharm": {
     "name": "#%%\n"
    }
   }
  },
  {
   "cell_type": "code",
   "execution_count": 23,
   "outputs": [],
   "source": [
    "# separando os dados de treino e teste\n",
    "X_train, X_test, y_train, y_test = train_test_split(X, y,\n",
    "                                                    test_size = 0.30,\n",
    "                                                    shuffle=True,\n",
    "                                                    random_state=42)"
   ],
   "metadata": {
    "collapsed": false,
    "pycharm": {
     "name": "#%%\n"
    }
   }
  },
  {
   "cell_type": "code",
   "execution_count": 24,
   "outputs": [
    {
     "data": {
      "text/plain": "XGBClassifier(base_score=0.5, booster='gbtree', callbacks=None,\n              colsample_bylevel=1, colsample_bynode=1, colsample_bytree=1,\n              early_stopping_rounds=None, enable_categorical=False,\n              eval_metric=None, gamma=0, gpu_id=-1, grow_policy='depthwise',\n              importance_type=None, interaction_constraints='',\n              learning_rate=0.01, max_bin=256, max_cat_to_onehot=4,\n              max_delta_step=0, max_depth=10, max_leaves=0, min_child_weight=1,\n              missing=nan, monotone_constraints='()', n_estimators=650,\n              n_jobs=0, num_parallel_tree=1, predictor='auto', random_state=42,\n              reg_alpha=0, reg_lambda=1, ...)",
      "text/html": "<style>#sk-container-id-2 {color: black;background-color: white;}#sk-container-id-2 pre{padding: 0;}#sk-container-id-2 div.sk-toggleable {background-color: white;}#sk-container-id-2 label.sk-toggleable__label {cursor: pointer;display: block;width: 100%;margin-bottom: 0;padding: 0.3em;box-sizing: border-box;text-align: center;}#sk-container-id-2 label.sk-toggleable__label-arrow:before {content: \"▸\";float: left;margin-right: 0.25em;color: #696969;}#sk-container-id-2 label.sk-toggleable__label-arrow:hover:before {color: black;}#sk-container-id-2 div.sk-estimator:hover label.sk-toggleable__label-arrow:before {color: black;}#sk-container-id-2 div.sk-toggleable__content {max-height: 0;max-width: 0;overflow: hidden;text-align: left;background-color: #f0f8ff;}#sk-container-id-2 div.sk-toggleable__content pre {margin: 0.2em;color: black;border-radius: 0.25em;background-color: #f0f8ff;}#sk-container-id-2 input.sk-toggleable__control:checked~div.sk-toggleable__content {max-height: 200px;max-width: 100%;overflow: auto;}#sk-container-id-2 input.sk-toggleable__control:checked~label.sk-toggleable__label-arrow:before {content: \"▾\";}#sk-container-id-2 div.sk-estimator input.sk-toggleable__control:checked~label.sk-toggleable__label {background-color: #d4ebff;}#sk-container-id-2 div.sk-label input.sk-toggleable__control:checked~label.sk-toggleable__label {background-color: #d4ebff;}#sk-container-id-2 input.sk-hidden--visually {border: 0;clip: rect(1px 1px 1px 1px);clip: rect(1px, 1px, 1px, 1px);height: 1px;margin: -1px;overflow: hidden;padding: 0;position: absolute;width: 1px;}#sk-container-id-2 div.sk-estimator {font-family: monospace;background-color: #f0f8ff;border: 1px dotted black;border-radius: 0.25em;box-sizing: border-box;margin-bottom: 0.5em;}#sk-container-id-2 div.sk-estimator:hover {background-color: #d4ebff;}#sk-container-id-2 div.sk-parallel-item::after {content: \"\";width: 100%;border-bottom: 1px solid gray;flex-grow: 1;}#sk-container-id-2 div.sk-label:hover label.sk-toggleable__label {background-color: #d4ebff;}#sk-container-id-2 div.sk-serial::before {content: \"\";position: absolute;border-left: 1px solid gray;box-sizing: border-box;top: 0;bottom: 0;left: 50%;z-index: 0;}#sk-container-id-2 div.sk-serial {display: flex;flex-direction: column;align-items: center;background-color: white;padding-right: 0.2em;padding-left: 0.2em;position: relative;}#sk-container-id-2 div.sk-item {position: relative;z-index: 1;}#sk-container-id-2 div.sk-parallel {display: flex;align-items: stretch;justify-content: center;background-color: white;position: relative;}#sk-container-id-2 div.sk-item::before, #sk-container-id-2 div.sk-parallel-item::before {content: \"\";position: absolute;border-left: 1px solid gray;box-sizing: border-box;top: 0;bottom: 0;left: 50%;z-index: -1;}#sk-container-id-2 div.sk-parallel-item {display: flex;flex-direction: column;z-index: 1;position: relative;background-color: white;}#sk-container-id-2 div.sk-parallel-item:first-child::after {align-self: flex-end;width: 50%;}#sk-container-id-2 div.sk-parallel-item:last-child::after {align-self: flex-start;width: 50%;}#sk-container-id-2 div.sk-parallel-item:only-child::after {width: 0;}#sk-container-id-2 div.sk-dashed-wrapped {border: 1px dashed gray;margin: 0 0.4em 0.5em 0.4em;box-sizing: border-box;padding-bottom: 0.4em;background-color: white;}#sk-container-id-2 div.sk-label label {font-family: monospace;font-weight: bold;display: inline-block;line-height: 1.2em;}#sk-container-id-2 div.sk-label-container {text-align: center;}#sk-container-id-2 div.sk-container {/* jupyter's `normalize.less` sets `[hidden] { display: none; }` but bootstrap.min.css set `[hidden] { display: none !important; }` so we also need the `!important` here to be able to override the default hidden behavior on the sphinx rendered scikit-learn.org. See: https://github.com/scikit-learn/scikit-learn/issues/21755 */display: inline-block !important;position: relative;}#sk-container-id-2 div.sk-text-repr-fallback {display: none;}</style><div id=\"sk-container-id-2\" class=\"sk-top-container\"><div class=\"sk-text-repr-fallback\"><pre>XGBClassifier(base_score=0.5, booster=&#x27;gbtree&#x27;, callbacks=None,\n              colsample_bylevel=1, colsample_bynode=1, colsample_bytree=1,\n              early_stopping_rounds=None, enable_categorical=False,\n              eval_metric=None, gamma=0, gpu_id=-1, grow_policy=&#x27;depthwise&#x27;,\n              importance_type=None, interaction_constraints=&#x27;&#x27;,\n              learning_rate=0.01, max_bin=256, max_cat_to_onehot=4,\n              max_delta_step=0, max_depth=10, max_leaves=0, min_child_weight=1,\n              missing=nan, monotone_constraints=&#x27;()&#x27;, n_estimators=650,\n              n_jobs=0, num_parallel_tree=1, predictor=&#x27;auto&#x27;, random_state=42,\n              reg_alpha=0, reg_lambda=1, ...)</pre><b>In a Jupyter environment, please rerun this cell to show the HTML representation or trust the notebook. <br />On GitHub, the HTML representation is unable to render, please try loading this page with nbviewer.org.</b></div><div class=\"sk-container\" hidden><div class=\"sk-item\"><div class=\"sk-estimator sk-toggleable\"><input class=\"sk-toggleable__control sk-hidden--visually\" id=\"sk-estimator-id-2\" type=\"checkbox\" checked><label for=\"sk-estimator-id-2\" class=\"sk-toggleable__label sk-toggleable__label-arrow\">XGBClassifier</label><div class=\"sk-toggleable__content\"><pre>XGBClassifier(base_score=0.5, booster=&#x27;gbtree&#x27;, callbacks=None,\n              colsample_bylevel=1, colsample_bynode=1, colsample_bytree=1,\n              early_stopping_rounds=None, enable_categorical=False,\n              eval_metric=None, gamma=0, gpu_id=-1, grow_policy=&#x27;depthwise&#x27;,\n              importance_type=None, interaction_constraints=&#x27;&#x27;,\n              learning_rate=0.01, max_bin=256, max_cat_to_onehot=4,\n              max_delta_step=0, max_depth=10, max_leaves=0, min_child_weight=1,\n              missing=nan, monotone_constraints=&#x27;()&#x27;, n_estimators=650,\n              n_jobs=0, num_parallel_tree=1, predictor=&#x27;auto&#x27;, random_state=42,\n              reg_alpha=0, reg_lambda=1, ...)</pre></div></div></div></div></div>"
     },
     "execution_count": 24,
     "metadata": {},
     "output_type": "execute_result"
    }
   ],
   "source": [
    "# Treinar um modelo usando um algoritmo de árvore de decisão  que utiliza uma estrutura de Gradient Boosting\n",
    "clf2 = XGBClassifier(n_estimators = 650,\n",
    "                     max_depth = 10,\n",
    "                     learning_rate = 0.01,\n",
    "                     subsample = 1,\n",
    "                     random_state=42)\n",
    "clf2.fit(X_train, y_train)"
   ],
   "metadata": {
    "collapsed": false,
    "pycharm": {
     "name": "#%%\n"
    }
   }
  },
  {
   "cell_type": "code",
   "execution_count": 25,
   "outputs": [],
   "source": [
    "# fazendo a predição com os dados de teste\n",
    "y_pred = clf2.predict(X_test)"
   ],
   "metadata": {
    "collapsed": false,
    "pycharm": {
     "name": "#%%\n"
    }
   }
  },
  {
   "cell_type": "code",
   "execution_count": 26,
   "outputs": [
    {
     "name": "stdout",
     "output_type": "stream",
     "text": [
      "Accuracy: 0.913217031342401\n",
      "\n",
      "F1-score: 0.9119808067176487\n",
      "\n",
      "Confusion Matrix: \n",
      "Predicted     0     1\n",
      "Actual               \n",
      "0          3136   194\n",
      "1           393  3041\n",
      "\n",
      "              precision    recall  f1-score   support\n",
      "\n",
      "           0       0.89      0.94      0.91      3330\n",
      "           1       0.94      0.89      0.91      3434\n",
      "\n",
      "    accuracy                           0.91      6764\n",
      "   macro avg       0.91      0.91      0.91      6764\n",
      "weighted avg       0.91      0.91      0.91      6764\n",
      "\n"
     ]
    },
    {
     "name": "stderr",
     "output_type": "stream",
     "text": [
      "C:\\Python\\Python310\\lib\\site-packages\\sklearn\\utils\\deprecation.py:87: FutureWarning: Function plot_confusion_matrix is deprecated; Function `plot_confusion_matrix` is deprecated in 1.0 and will be removed in 1.2. Use one of the class methods: ConfusionMatrixDisplay.from_predictions or ConfusionMatrixDisplay.from_estimator.\n",
      "  warnings.warn(msg, category=FutureWarning)\n"
     ]
    },
    {
     "data": {
      "text/plain": "<Figure size 432x288 with 2 Axes>",
      "image/png": "[encoded data removed]"
     },
     "metadata": {
      "needs_background": "light"
     },
     "output_type": "display_data"
    }
   ],
   "source": [
    "#Avaliar o modelo com base em algumas métricas de desempenho\n",
    "generate_performance_stats(y_test, y_pred)"
   ],
   "metadata": {
    "collapsed": false,
    "pycharm": {
     "name": "#%%\n"
    }
   }
  },
  {
   "cell_type": "code",
   "execution_count": 27,
   "outputs": [
    {
     "data": {
      "text/plain": "   feature  feat_importance\n22    var8         0.235079\n0     var7         0.062907\n49    var4         0.041443\n67   var49         0.033127\n41   var54         0.032498\n47   var50         0.031591\n7     var1         0.026211\n16   var57         0.023345\n27   var17         0.020872\n56   var18         0.019737",
      "text/html": "<div>\n<style scoped>\n    .dataframe tbody tr th:only-of-type {\n        vertical-align: middle;\n    }\n\n    .dataframe tbody tr th {\n        vertical-align: top;\n    }\n\n    .dataframe thead th {\n        text-align: right;\n    }\n</style>\n<table border=\"1\" class=\"dataframe\">\n  <thead>\n    <tr style=\"text-align: right;\">\n      <th></th>\n      <th>feature</th>\n      <th>feat_importance</th>\n    </tr>\n  </thead>\n  <tbody>\n    <tr>\n      <th>22</th>\n      <td>var8</td>\n      <td>0.235079</td>\n    </tr>\n    <tr>\n      <th>0</th>\n      <td>var7</td>\n      <td>0.062907</td>\n    </tr>\n    <tr>\n      <th>49</th>\n      <td>var4</td>\n      <td>0.041443</td>\n    </tr>\n    <tr>\n      <th>67</th>\n      <td>var49</td>\n      <td>0.033127</td>\n    </tr>\n    <tr>\n      <th>41</th>\n      <td>var54</td>\n      <td>0.032498</td>\n    </tr>\n    <tr>\n      <th>47</th>\n      <td>var50</td>\n      <td>0.031591</td>\n    </tr>\n    <tr>\n      <th>7</th>\n      <td>var1</td>\n      <td>0.026211</td>\n    </tr>\n    <tr>\n      <th>16</th>\n      <td>var57</td>\n      <td>0.023345</td>\n    </tr>\n    <tr>\n      <th>27</th>\n      <td>var17</td>\n      <td>0.020872</td>\n    </tr>\n    <tr>\n      <th>56</th>\n      <td>var18</td>\n      <td>0.019737</td>\n    </tr>\n  </tbody>\n</table>\n</div>"
     },
     "execution_count": 27,
     "metadata": {},
     "output_type": "execute_result"
    }
   ],
   "source": [
    "#Obter as features mais importantes\n",
    "df_featImport['feature'] = X_test.columns\n",
    "df_featImport['feat_importance'] = clf2.feature_importances_\n",
    "df_featImport = df_featImport.sort_values(by='feat_importance', ascending=False)\n",
    "df_featImport[0:10]"
   ],
   "metadata": {
    "collapsed": false,
    "pycharm": {
     "name": "#%%\n"
    }
   }
  },
  {
   "cell_type": "markdown",
   "source": [
    "## Testar o modelo na base de teste"
   ],
   "metadata": {
    "collapsed": false,
    "pycharm": {
     "name": "#%% md\n"
    }
   }
  },
  {
   "cell_type": "code",
   "execution_count": 28,
   "outputs": [],
   "source": [
    "# Carregar a base de teste\n",
    "raw_data_test = pd.read_csv('./input/test.csv', sep=',')\n",
    "df_test = raw_data_test.copy()"
   ],
   "metadata": {
    "collapsed": false,
    "pycharm": {
     "name": "#%%\n"
    }
   }
  },
  {
   "cell_type": "code",
   "execution_count": 29,
   "outputs": [],
   "source": [
    "# Remover coluna ID\n",
    "df_test.drop(['id'], axis=1, inplace=True)"
   ],
   "metadata": {
    "collapsed": false,
    "pycharm": {
     "name": "#%%\n"
    }
   }
  },
  {
   "cell_type": "code",
   "execution_count": 30,
   "outputs": [],
   "source": [
    "# Utilizar toda a base de treinamento para treinar o modelo final (treinamento + validação)\n",
    "X_test = df_test\n",
    "y_pred = clf2.predict(X_test)"
   ],
   "metadata": {
    "collapsed": false,
    "pycharm": {
     "name": "#%%\n"
    }
   }
  },
  {
   "cell_type": "markdown",
   "source": [
    "## Criar arquivo para submissão"
   ],
   "metadata": {
    "collapsed": false,
    "pycharm": {
     "name": "#%% md\n"
    }
   }
  },
  {
   "cell_type": "code",
   "execution_count": 31,
   "outputs": [
    {
     "data": {
      "text/plain": "   id  predicted\n0   0          1\n1   2          1\n2   4          0\n3   7          0\n4  15          0",
      "text/html": "<div>\n<style scoped>\n    .dataframe tbody tr th:only-of-type {\n        vertical-align: middle;\n    }\n\n    .dataframe tbody tr th {\n        vertical-align: top;\n    }\n\n    .dataframe thead th {\n        text-align: right;\n    }\n</style>\n<table border=\"1\" class=\"dataframe\">\n  <thead>\n    <tr style=\"text-align: right;\">\n      <th></th>\n      <th>id</th>\n      <th>predicted</th>\n    </tr>\n  </thead>\n  <tbody>\n    <tr>\n      <th>0</th>\n      <td>0</td>\n      <td>1</td>\n    </tr>\n    <tr>\n      <th>1</th>\n      <td>2</td>\n      <td>1</td>\n    </tr>\n    <tr>\n      <th>2</th>\n      <td>4</td>\n      <td>0</td>\n    </tr>\n    <tr>\n      <th>3</th>\n      <td>7</td>\n      <td>0</td>\n    </tr>\n    <tr>\n      <th>4</th>\n      <td>15</td>\n      <td>0</td>\n    </tr>\n  </tbody>\n</table>\n</div>"
     },
     "execution_count": 31,
     "metadata": {},
     "output_type": "execute_result"
    }
   ],
   "source": [
    "df_submission = pd.read_csv('./input/submission_sample.csv', sep=',')\n",
    "df_submission.head()\n",
    "df_submission['predicted'] = y_pred\n",
    "df_submission.head()"
   ],
   "metadata": {
    "collapsed": false,
    "pycharm": {
     "name": "#%%\n"
    }
   }
  },
  {
   "cell_type": "code",
   "execution_count": 32,
   "outputs": [],
   "source": [
    "# Salvar o arquivo para submissão\n",
    "df_submission.to_csv('./output/xgboostbalaced.csv', index=False, sep=\",\", encoding='utf-8')"
   ],
   "metadata": {
    "collapsed": false,
    "pycharm": {
     "name": "#%%\n"
    }
   }
  },
  {
   "cell_type": "code",
   "execution_count": 32,
   "outputs": [],
   "source": [],
   "metadata": {
    "collapsed": false,
    "pycharm": {
     "name": "#%%\n"
    }
   }
  },
  {
   "cell_type": "markdown",
   "source": [
    "## Outros algoritmos"
   ],
   "metadata": {
    "collapsed": false,
    "pycharm": {
     "name": "#%% md\n"
    }
   }
  },
  {
   "cell_type": "markdown",
   "source": [
    "### kNN"
   ],
   "metadata": {
    "collapsed": false,
    "pycharm": {
     "name": "#%% md\n"
    }
   }
  },
  {
   "cell_type": "markdown",
   "source": [
    "#### Desbalanceado"
   ],
   "metadata": {
    "collapsed": false,
    "pycharm": {
     "name": "#%% md\n"
    }
   }
  },
  {
   "cell_type": "code",
   "execution_count": 33,
   "outputs": [
    {
     "name": "stdout",
     "output_type": "stream",
     "text": [
      "              precision    recall  f1-score   support\n",
      "\n",
      "           0       0.85      0.94      0.89      3333\n",
      "           1       0.63      0.39      0.48       904\n",
      "\n",
      "    accuracy                           0.82      4237\n",
      "   macro avg       0.74      0.67      0.69      4237\n",
      "weighted avg       0.80      0.82      0.80      4237\n",
      "\n",
      "Accuracy: 0.820627802690583\n",
      "\n",
      "F1-score: 0.483695652173913\n",
      "\n",
      "Confusion Matrix: \n",
      "Predicted     0    1\n",
      "Actual              \n",
      "0          3121  212\n",
      "1           548  356\n",
      "\n",
      "              precision    recall  f1-score   support\n",
      "\n",
      "           0       0.85      0.94      0.89      3333\n",
      "           1       0.63      0.39      0.48       904\n",
      "\n",
      "    accuracy                           0.82      4237\n",
      "   macro avg       0.74      0.67      0.69      4237\n",
      "weighted avg       0.80      0.82      0.80      4237\n",
      "\n"
     ]
    },
    {
     "name": "stderr",
     "output_type": "stream",
     "text": [
      "C:\\Python\\Python310\\lib\\site-packages\\sklearn\\utils\\deprecation.py:87: FutureWarning: Function plot_confusion_matrix is deprecated; Function `plot_confusion_matrix` is deprecated in 1.0 and will be removed in 1.2. Use one of the class methods: ConfusionMatrixDisplay.from_predictions or ConfusionMatrixDisplay.from_estimator.\n",
      "  warnings.warn(msg, category=FutureWarning)\n"
     ]
    },
    {
     "data": {
      "text/plain": "<Figure size 432x288 with 2 Axes>",
      "image/png": "[encoded data removed]"
     },
     "metadata": {
      "needs_background": "light"
     },
     "output_type": "display_data"
    }
   ],
   "source": [
    "# definindo os recuros de entrada(X) e saida(y)\n",
    "X = df_train.loc[:, df_train.columns != 'y']\n",
    "y = df_train['y']\n",
    "\n",
    "# separando os dados de treino e teste\n",
    "X_train, X_test, y_train, y_test = train_test_split(X, y,\n",
    "                                                    test_size=0.30,\n",
    "                                                    shuffle=True,\n",
    "                                                    random_state=42)\n",
    "\n",
    "# Criando modelo e treinando com os dados de treino\n",
    "knn = KNeighborsClassifier()\n",
    "knn.fit(X_train, y_train)\n",
    "# Fazendo a predição nos dados de treino\n",
    "y_pred = knn.predict(X_test)\n",
    "\n",
    "print(classification_report(y_test, y_pred))\n",
    "generate_performance_stats(y_test, y_pred)\n",
    "\n",
    "raw_data_test = pd.read_csv('./input/test.csv', sep=',')\n",
    "df_test = raw_data_test.copy()\n",
    "df_test.drop(['id'], axis=1, inplace=True)\n",
    "\n",
    "# Utilizar toda a base de treinamento para treinar o modelo final (treinamento + validação)\n",
    "X_test = df_test\n",
    "y_pred = knn.predict(X_test)\n",
    "df_submission = pd.read_csv('./input/submission_sample.csv', sep=',')\n",
    "df_submission.head()\n",
    "df_submission['predicted'] = y_pred\n",
    "df_submission.head()\n",
    "# Salvar o arquivo para submissão\n",
    "df_submission.to_csv('./output/unbalancedknn.csv', index=False, sep=\",\", encoding='utf-8')\n"
   ],
   "metadata": {
    "collapsed": false,
    "pycharm": {
     "name": "#%%\n"
    }
   }
  },
  {
   "cell_type": "markdown",
   "source": [
    "#### Balanceado"
   ],
   "metadata": {
    "collapsed": false,
    "pycharm": {
     "name": "#%% md\n"
    }
   }
  },
  {
   "cell_type": "code",
   "execution_count": 34,
   "outputs": [
    {
     "name": "stdout",
     "output_type": "stream",
     "text": [
      "Counter({1: 11273, 0: 11273})\n",
      "              precision    recall  f1-score   support\n",
      "\n",
      "           0       0.90      0.69      0.78      3330\n",
      "           1       0.76      0.93      0.83      3434\n",
      "\n",
      "    accuracy                           0.81      6764\n",
      "   macro avg       0.83      0.81      0.81      6764\n",
      "weighted avg       0.83      0.81      0.81      6764\n",
      "\n",
      "Accuracy: 0.8122412773506801\n",
      "\n",
      "F1-score: 0.8339435146443515\n",
      "\n",
      "Confusion Matrix: \n",
      "Predicted     0     1\n",
      "Actual               \n",
      "0          2305  1025\n",
      "1           245  3189\n",
      "\n",
      "              precision    recall  f1-score   support\n",
      "\n",
      "           0       0.90      0.69      0.78      3330\n",
      "           1       0.76      0.93      0.83      3434\n",
      "\n",
      "    accuracy                           0.81      6764\n",
      "   macro avg       0.83      0.81      0.81      6764\n",
      "weighted avg       0.83      0.81      0.81      6764\n",
      "\n"
     ]
    },
    {
     "name": "stderr",
     "output_type": "stream",
     "text": [
      "C:\\Python\\Python310\\lib\\site-packages\\sklearn\\utils\\deprecation.py:87: FutureWarning: Function plot_confusion_matrix is deprecated; Function `plot_confusion_matrix` is deprecated in 1.0 and will be removed in 1.2. Use one of the class methods: ConfusionMatrixDisplay.from_predictions or ConfusionMatrixDisplay.from_estimator.\n",
      "  warnings.warn(msg, category=FutureWarning)\n"
     ]
    },
    {
     "data": {
      "text/plain": "<Figure size 432x288 with 2 Axes>",
      "image/png": "[encoded data removed]"
     },
     "metadata": {
      "needs_background": "light"
     },
     "output_type": "display_data"
    }
   ],
   "source": [
    "\n",
    "\n",
    "# definindo os recuros de entrada(X) e saida(y)\n",
    "X = df_train.loc[:, df_train.columns != 'y']\n",
    "y = df_train['y']\n",
    "# executa o balanceamento usando a técnica SMOTE\n",
    "oversample = SMOTE()\n",
    "X, y = oversample.fit_resample(X, y)\n",
    "\n",
    "# realiza a contagem das classes\n",
    "contagem = Counter(y)\n",
    "print(contagem)\n",
    "\n",
    "# separando os dados de treino e teste\n",
    "X_train, X_test, y_train, y_test = train_test_split(X, y,\n",
    "                                                    test_size=0.30,\n",
    "                                                    shuffle=True,\n",
    "                                                    random_state=42)\n",
    "\n",
    "# Criando modelo e treinando com os dados de treino\n",
    "knn = KNeighborsClassifier()\n",
    "knn.fit(X_train, y_train)\n",
    "# Fazendo a predição nos dados de treino\n",
    "y_pred = knn.predict(X_test)\n",
    "\n",
    "print(classification_report(y_test, y_pred))\n",
    "\n",
    "#Avaliar o modelo com base em algumas métricas de desempenho\n",
    "generate_performance_stats(y_test, y_pred)\n",
    "\n",
    "raw_data_test = pd.read_csv('./input/test.csv', sep=',')\n",
    "df_test = raw_data_test.copy()\n",
    "df_test.drop(['id'], axis=1, inplace=True)\n",
    "\n",
    "# Utilizar toda a base de treinamento para treinar o modelo final (treinamento + validação)\n",
    "X_test = df_test\n",
    "y_pred = knn.predict(X_test)\n",
    "df_submission = pd.read_csv('./input/submission_sample.csv', sep=',')\n",
    "df_submission.head()\n",
    "df_submission['predicted'] = y_pred\n",
    "df_submission.head()\n",
    "# Salvar o arquivo para submissão\n",
    "df_submission.to_csv('./output/balancedknn.csv', index=False, sep=\",\", encoding='utf-8')"
   ],
   "metadata": {
    "collapsed": false,
    "pycharm": {
     "name": "#%%\n"
    }
   }
  },
  {
   "cell_type": "markdown",
   "source": [
    "## Regresão logística\n",
    "### desbalanceado"
   ],
   "metadata": {
    "collapsed": false,
    "pycharm": {
     "name": "#%% md\n"
    }
   }
  },
  {
   "cell_type": "code",
   "execution_count": 35,
   "outputs": [
    {
     "name": "stderr",
     "output_type": "stream",
     "text": [
      "C:\\Python\\Python310\\lib\\site-packages\\sklearn\\linear_model\\_logistic.py:444: ConvergenceWarning: lbfgs failed to converge (status=1):\n",
      "STOP: TOTAL NO. of ITERATIONS REACHED LIMIT.\n",
      "\n",
      "Increase the number of iterations (max_iter) or scale the data as shown in:\n",
      "    https://scikit-learn.org/stable/modules/preprocessing.html\n",
      "Please also refer to the documentation for alternative solver options:\n",
      "    https://scikit-learn.org/stable/modules/linear_model.html#logistic-regression\n",
      "  n_iter_i = _check_optimize_result(\n",
      "C:\\Python\\Python310\\lib\\site-packages\\sklearn\\utils\\deprecation.py:87: FutureWarning: Function plot_confusion_matrix is deprecated; Function `plot_confusion_matrix` is deprecated in 1.0 and will be removed in 1.2. Use one of the class methods: ConfusionMatrixDisplay.from_predictions or ConfusionMatrixDisplay.from_estimator.\n",
      "  warnings.warn(msg, category=FutureWarning)\n"
     ]
    },
    {
     "name": "stdout",
     "output_type": "stream",
     "text": [
      "(4237,)\n",
      "              precision    recall  f1-score   support\n",
      "\n",
      "           0       0.85      0.96      0.90      3333\n",
      "           1       0.71      0.36      0.48       904\n",
      "\n",
      "    accuracy                           0.83      4237\n",
      "   macro avg       0.78      0.66      0.69      4237\n",
      "weighted avg       0.82      0.83      0.81      4237\n",
      "\n",
      "Accuracy: 0.8321925890960585\n",
      "\n",
      "F1-score: 0.4752767527675277\n",
      "\n",
      "Confusion Matrix: \n",
      "Predicted     0    1\n",
      "Actual              \n",
      "0          3204  129\n",
      "1           582  322\n",
      "\n",
      "              precision    recall  f1-score   support\n",
      "\n",
      "           0       0.85      0.96      0.90      3333\n",
      "           1       0.71      0.36      0.48       904\n",
      "\n",
      "    accuracy                           0.83      4237\n",
      "   macro avg       0.78      0.66      0.69      4237\n",
      "weighted avg       0.82      0.83      0.81      4237\n",
      "\n"
     ]
    },
    {
     "data": {
      "text/plain": "<Figure size 432x288 with 2 Axes>",
      "image/png": "[encoded data removed]"
     },
     "metadata": {
      "needs_background": "light"
     },
     "output_type": "display_data"
    }
   ],
   "source": [
    "X = df_train.loc[:, df_train.columns != 'y']\n",
    "y = df_train['y']\n",
    "\n",
    "# separando os dados de treino e teste\n",
    "X_train, X_test, y_train, y_test = train_test_split(X, y,\n",
    "                                                    test_size = 0.30,\n",
    "                                                    shuffle=True,\n",
    "                                                    random_state=42)\n",
    "\n",
    "\n",
    "# Criando modelo e treinando com os dados de treino\n",
    "clr = LogisticRegression()\n",
    "clr.fit(X, y)\n",
    "# Fazendo a predição nos dados de treino\n",
    "y_pred = clr.predict(X_test)\n",
    "print(y_pred.shape)\n",
    "print(classification_report(y_test, y_pred))\n",
    "#Avaliar o modelo com base em algumas métricas de desempenho\n",
    "generate_performance_stats(y_test, y_pred)\n",
    "\n",
    "raw_data_test = pd.read_csv('./input/test.csv', sep=',')\n",
    "df_test = raw_data_test.copy()\n",
    "df_test.drop(['id'], axis=1, inplace=True)\n",
    "\n",
    "# Utilizar toda a base de treinamento para treinar o modelo final (treinamento + validação)\n",
    "X_test = df_test\n",
    "y_pred = clr.predict(X_test)\n",
    "df_submission = pd.read_csv('./input/submission_sample.csv', sep=',')\n",
    "df_submission.head()\n",
    "df_submission['predicted'] = y_pred\n",
    "df_submission.head()\n",
    "# Salvar o arquivo para submissão\n",
    "df_submission.to_csv('./output/unbalancedLogisticRegression.csv', index=False, sep=\",\", encoding='utf-8')"
   ],
   "metadata": {
    "collapsed": false,
    "pycharm": {
     "name": "#%%\n"
    }
   }
  },
  {
   "cell_type": "markdown",
   "source": [
    "### Balanceado"
   ],
   "metadata": {
    "collapsed": false,
    "pycharm": {
     "name": "#%% md\n"
    }
   }
  },
  {
   "cell_type": "code",
   "execution_count": 36,
   "outputs": [
    {
     "name": "stdout",
     "output_type": "stream",
     "text": [
      "Counter({1: 11273, 0: 11273})\n"
     ]
    },
    {
     "name": "stderr",
     "output_type": "stream",
     "text": [
      "C:\\Python\\Python310\\lib\\site-packages\\sklearn\\linear_model\\_logistic.py:444: ConvergenceWarning: lbfgs failed to converge (status=1):\n",
      "STOP: TOTAL NO. of ITERATIONS REACHED LIMIT.\n",
      "\n",
      "Increase the number of iterations (max_iter) or scale the data as shown in:\n",
      "    https://scikit-learn.org/stable/modules/preprocessing.html\n",
      "Please also refer to the documentation for alternative solver options:\n",
      "    https://scikit-learn.org/stable/modules/linear_model.html#logistic-regression\n",
      "  n_iter_i = _check_optimize_result(\n",
      "C:\\Python\\Python310\\lib\\site-packages\\sklearn\\utils\\deprecation.py:87: FutureWarning: Function plot_confusion_matrix is deprecated; Function `plot_confusion_matrix` is deprecated in 1.0 and will be removed in 1.2. Use one of the class methods: ConfusionMatrixDisplay.from_predictions or ConfusionMatrixDisplay.from_estimator.\n",
      "  warnings.warn(msg, category=FutureWarning)\n"
     ]
    },
    {
     "name": "stdout",
     "output_type": "stream",
     "text": [
      "              precision    recall  f1-score   support\n",
      "\n",
      "           0       0.74      0.80      0.77      3330\n",
      "           1       0.79      0.72      0.76      3434\n",
      "\n",
      "    accuracy                           0.76      6764\n",
      "   macro avg       0.77      0.76      0.76      6764\n",
      "weighted avg       0.77      0.76      0.76      6764\n",
      "\n",
      "Accuracy: 0.7633057362507392\n",
      "\n",
      "F1-score: 0.7562052687680828\n",
      "\n",
      "Confusion Matrix: \n",
      "Predicted     0     1\n",
      "Actual               \n",
      "0          2680   650\n",
      "1           951  2483\n",
      "\n",
      "              precision    recall  f1-score   support\n",
      "\n",
      "           0       0.74      0.80      0.77      3330\n",
      "           1       0.79      0.72      0.76      3434\n",
      "\n",
      "    accuracy                           0.76      6764\n",
      "   macro avg       0.77      0.76      0.76      6764\n",
      "weighted avg       0.77      0.76      0.76      6764\n",
      "\n"
     ]
    },
    {
     "data": {
      "text/plain": "<Figure size 432x288 with 2 Axes>",
      "image/png": "[encoded data removed]"
     },
     "metadata": {
      "needs_background": "light"
     },
     "output_type": "display_data"
    }
   ],
   "source": [
    "from imblearn.over_sampling import SMOTE\n",
    "from collections import Counter\n",
    "\n",
    "# definindo os recuros de entrada(X) e saida(y)\n",
    "X = df_train.loc[:, df_train.columns != 'y']\n",
    "y = df_train['y']\n",
    "# executa o balanceamento usando a técnica SMOTE\n",
    "oversample = SMOTE()\n",
    "X, y = oversample.fit_resample(X, y)\n",
    "\n",
    "# realiza a contagem das classes\n",
    "contagem = Counter(y)\n",
    "print(contagem)\n",
    "\n",
    "# separando os dados de treino e teste\n",
    "X_train, X_test, y_train, y_test = train_test_split(X, y,\n",
    "                                                    test_size = 0.30,\n",
    "                                                    shuffle=True,\n",
    "                                                    random_state=42)\n",
    "\n",
    "\n",
    "# Criando modelo e treinando com os dados de treino\n",
    "clr = LogisticRegression(max_iter=1000)\n",
    "clr.fit(X, y)\n",
    "# Fazendo a predição nos dados de treino\n",
    "y_pred = clr.predict(X_test)\n",
    "print(classification_report(y_test, y_pred))\n",
    "#Avaliar o modelo com base em algumas métricas de desempenho\n",
    "generate_performance_stats(y_test, y_pred)\n",
    "\n",
    "raw_data_test = pd.read_csv('./input/test.csv', sep=',')\n",
    "df_test = raw_data_test.copy()\n",
    "df_test.drop(['id'], axis=1, inplace=True)\n",
    "\n",
    "# Utilizar toda a base de treinamento para treinar o modelo final (treinamento + validação)\n",
    "X_test = df_test\n",
    "y_pred = clr.predict(X_test)\n",
    "df_submission = pd.read_csv('./input/submission_sample.csv', sep=',')\n",
    "df_submission.head()\n",
    "df_submission['predicted'] = y_pred\n",
    "df_submission.head()\n",
    "# Salvar o arquivo para submissão\n",
    "df_submission.to_csv('./output/balancedLogisticRegression.csv', index=False, sep=\",\", encoding='utf-8')"
   ],
   "metadata": {
    "collapsed": false,
    "pycharm": {
     "name": "#%%\n"
    }
   }
  }
 ],
 "metadata": {
  "kernelspec": {
   "display_name": "Python 3",
   "language": "python",
   "name": "python3"
  },
  "language_info": {
   "codemirror_mode": {
    "name": "ipython",
    "version": 3
   },
   "file_extension": ".py",
   "mimetype": "text/x-python",
   "name": "python",
   "nbconvert_exporter": "python",
   "pygments_lexer": "ipython3",
   "version": "3.8.6"
  }
 },
 "nbformat": 4,
 "nbformat_minor": 4
}