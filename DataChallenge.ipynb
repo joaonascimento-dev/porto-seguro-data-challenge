{
 "cells": [
  {
   "cell_type": "markdown",
   "id": "d601f10df0e83670",
   "metadata": {
    "collapsed": false
   },
   "source": [
    "## Bruno de Moraes\n",
    "## João Nascimento"
   ]
  },
  {
   "cell_type": "markdown",
   "id": "60bfa077",
   "metadata": {},
   "source": [
    "Importação das bibliotecas necessárias"
   ]
  },
  {
   "cell_type": "code",
   "execution_count": null,
   "id": "initial_id",
   "metadata": {
    "collapsed": true
   },
   "outputs": [],
   "source": [
    "import pandas as pd\n",
    "\n",
    "from sklearn.model_selection import train_test_split\n",
    "from sklearn.linear_model import LogisticRegression\n",
    "from sklearn.neighbors import KNeighborsClassifier\n",
    "from sklearn.metrics import classification_report\n",
    "from sklearn import metrics\n",
    "from sklearn.metrics import ConfusionMatrixDisplay\n",
    "from imblearn.over_sampling import SMOTE\n",
    "from collections import Counter"
   ]
  },
  {
   "cell_type": "markdown",
   "id": "7773a675",
   "metadata": {},
   "source": [
    "Leitura dos dados de treino"
   ]
  },
  {
   "cell_type": "code",
   "execution_count": null,
   "id": "913c5945",
   "metadata": {},
   "outputs": [],
   "source": [
    "raw_data = pd.read_csv('./datasets/train.csv', sep=',')\n",
    "raw_data.shape"
   ]
  },
  {
   "cell_type": "markdown",
   "id": "f0c385b7",
   "metadata": {},
   "source": [
    "Removendo a coluna ID, pois ela irá impactar negativamente nos resultados"
   ]
  },
  {
   "cell_type": "code",
   "execution_count": null,
   "id": "ca88d428",
   "metadata": {},
   "outputs": [],
   "source": [
    "raw_data.drop(['id'], axis=1, inplace=True)"
   ]
  },
  {
   "cell_type": "markdown",
   "id": "d03b3c29",
   "metadata": {},
   "source": [
    "Copiando para o df_train"
   ]
  },
  {
   "cell_type": "code",
   "execution_count": null,
   "id": "917c4023",
   "metadata": {},
   "outputs": [],
   "source": [
    "df_train = raw_data.copy()\n",
    "df_train.head()"
   ]
  },
  {
   "cell_type": "markdown",
   "id": "fe560c59",
   "metadata": {},
   "source": [
    "Tentamos remover os registros que possuiam algum dado \"-999\", porém ao finalizar os testes, isso causou um impacto negativo na porcentagem de precisão"
   ]
  },
  {
   "cell_type": "code",
   "execution_count": null,
   "id": "3fa081b5",
   "metadata": {},
   "outputs": [],
   "source": [
    "df_train_sem_999 = df_train.replace([-999], pd.NA)\n",
    "df_train_sem_999.dropna(inplace=True)\n",
    "df_train_sem_999.shape"
   ]
  },
  {
   "cell_type": "markdown",
   "id": "d9d0ccf4",
   "metadata": {},
   "source": [
    "Após o teste anterior, tentamos manter apenas as colunas que tivessem a maior correlação com a coluna y (resultado), porém novamente, pela remoção de muitos dados, a porcentagem de precisão diminuiu consideravelmente."
   ]
  },
  {
   "cell_type": "code",
   "execution_count": null,
   "id": "107302d8",
   "metadata": {},
   "outputs": [],
   "source": [
    "df_train_corr = df_train.corr()[['y']]\n",
    "df_train_corr = df_train_corr[df_train_corr > 0]\n",
    "df_train_corr.dropna(inplace=True)\n",
    "df_train_mais_correlacao = df_train[df_train_corr.index.values.tolist()]\n",
    "df_train_mais_correlacao.head()"
   ]
  },
  {
   "cell_type": "markdown",
   "id": "26b2a1bc",
   "metadata": {},
   "source": [
    "Definindo os recursos de X e y, baseados no df_train padrão, já que as tentativas anteriores de tratamento não tiveram sucesso"
   ]
  },
  {
   "cell_type": "code",
   "execution_count": null,
   "id": "ea05a181",
   "metadata": {},
   "outputs": [],
   "source": [
    "X = df_train.loc[:, df_train.columns != 'y']\n",
    "y = df_train['y']"
   ]
  },
  {
   "cell_type": "markdown",
   "id": "db0de276",
   "metadata": {},
   "source": [
    "Balanceando X e y, porém em variaveis diferentes das originais, pois vamos utilizar dos dois modos"
   ]
  },
  {
   "cell_type": "code",
   "execution_count": null,
   "id": "74096d99",
   "metadata": {},
   "outputs": [],
   "source": [
    "oversample = SMOTE()\n",
    "X_blc, y_blc = oversample.fit_resample(X,y)"
   ]
  },
  {
   "cell_type": "markdown",
   "id": "2853c5f1",
   "metadata": {},
   "source": [
    "Separando os dados de treino e teste desbalanceados"
   ]
  },
  {
   "cell_type": "code",
   "execution_count": null,
   "id": "2e791c02",
   "metadata": {},
   "outputs": [],
   "source": [
    "X_train, X_test, y_train, y_test = train_test_split(X, y,\n",
    "                                                    test_size = 0.30,\n",
    "                                                    shuffle=True,\n",
    "                                                    random_state=609)"
   ]
  },
  {
   "cell_type": "markdown",
   "id": "79e49b3f",
   "metadata": {},
   "source": [
    "Separando os dados de treino e teste balanceados"
   ]
  },
  {
   "cell_type": "code",
   "execution_count": null,
   "id": "ab238ff3",
   "metadata": {},
   "outputs": [],
   "source": [
    "X_blc_train, X_blc_test, y_blc_train, y_blc_test = train_test_split(X_blc, y_blc,\n",
    "                                                    test_size = 0.30,\n",
    "                                                    shuffle=True,\n",
    "                                                    random_state=609)"
   ]
  },
  {
   "cell_type": "markdown",
   "id": "5b11ca21",
   "metadata": {},
   "source": [
    "# Modelo 1 - Regressão Logística\n",
    "## Desbalanceado\n",
    "Criando o modelo e o treinando com os dados"
   ]
  },
  {
   "cell_type": "code",
   "execution_count": null,
   "id": "fe905a83",
   "metadata": {},
   "outputs": [],
   "source": [
    "clr = LogisticRegression()\n",
    "clr.fit(X_train, y_train)"
   ]
  },
  {
   "cell_type": "markdown",
   "id": "0172df95",
   "metadata": {},
   "source": [
    "Fazendo a predição"
   ]
  },
  {
   "cell_type": "code",
   "execution_count": null,
   "id": "eb3c903f",
   "metadata": {},
   "outputs": [],
   "source": [
    "y_pred = clr.predict(X_test)"
   ]
  },
  {
   "cell_type": "markdown",
   "id": "0a092ada",
   "metadata": {},
   "source": [
    "Printando o resultado da predição"
   ]
  },
  {
   "cell_type": "code",
   "execution_count": null,
   "id": "6bc7e37a",
   "metadata": {},
   "outputs": [],
   "source": [
    "print(classification_report(y_test, y_pred))"
   ]
  },
  {
   "cell_type": "markdown",
   "id": "9490aeb5",
   "metadata": {},
   "source": [
    "Como podemos analisar, a regressão logística desbalanceado obteve 80% de precisão média (macro avg/precision).\n",
    "<br>\n",
    "Isso é um resultado satisfatório."
   ]
  },
  {
   "cell_type": "markdown",
   "id": "8d217bd0",
   "metadata": {},
   "source": [
    "Gerando uma Matrix de Confusão para facilitar a visualização dos falso-positivos"
   ]
  },
  {
   "cell_type": "code",
   "execution_count": null,
   "id": "7b4e6b18",
   "metadata": {},
   "outputs": [],
   "source": [
    "\n",
    "ConfusionMatrixDisplay.from_estimator(clr, X_test, y_test, cmap='Blues')"
   ]
  },
  {
   "cell_type": "markdown",
   "id": "47c79947",
   "metadata": {},
   "source": [
    "Como podemos ver, o modelo acertou muitos dos clientes que não compraram o produto, prevendo certo, pois o dataset possui muitos registros dessa categoria. Já para os clientes que compraram o produto, o modelo apresentou como Falso, errando a maioria dessa categoria."
   ]
  },
  {
   "cell_type": "markdown",
   "id": "cd5b0394",
   "metadata": {},
   "source": [
    "## Balanceado\n",
    "Criando o modelo e o treinando com os dados"
   ]
  },
  {
   "cell_type": "code",
   "execution_count": null,
   "id": "3030026d",
   "metadata": {},
   "outputs": [],
   "source": [
    "clr_blc = LogisticRegression()\n",
    "clr_blc.fit(X_blc_train, y_blc_train)"
   ]
  },
  {
   "cell_type": "markdown",
   "id": "19dd43be",
   "metadata": {},
   "source": [
    "Fazendo a predição"
   ]
  },
  {
   "cell_type": "code",
   "execution_count": null,
   "id": "ac4703eb",
   "metadata": {},
   "outputs": [],
   "source": [
    "y_blc_pred = clr_blc.predict(X_blc_test)"
   ]
  },
  {
   "cell_type": "markdown",
   "id": "618c65ee",
   "metadata": {},
   "source": [
    "Printando o resultado da predição"
   ]
  },
  {
   "cell_type": "code",
   "execution_count": null,
   "id": "a64bbc24",
   "metadata": {},
   "outputs": [],
   "source": [
    "print(classification_report(y_blc_test, y_blc_pred))"
   ]
  },
  {
   "cell_type": "markdown",
   "id": "0edd59a0",
   "metadata": {},
   "source": [
    "Como podemos analisar, a regressão logística balanceado obteve 61% de precisão média (macro avg/precision).\n",
    "<br>\n",
    "Isso é um resultado mediamente satisfatório."
   ]
  },
  {
   "cell_type": "markdown",
   "id": "3c910819",
   "metadata": {},
   "source": [
    "Gerando uma Matrix de Confusão para facilitar a visualização dos falso-positivos"
   ]
  },
  {
   "cell_type": "code",
   "execution_count": null,
   "id": "4d11e14a",
   "metadata": {},
   "outputs": [],
   "source": [
    "\n",
    "ConfusionMatrixDisplay.from_estimator(clr_blc, X_blc_test, y_blc_test, cmap='Blues')"
   ]
  },
  {
   "cell_type": "markdown",
   "metadata": {},
   "source": [
    "Como podemos ver, o modelo acertou 61% dos casos onde o produto não seria comprado, e 61% dos casos onde ele seria comprado. Comparando com a versão desbalanceada, o modelo conseguiu um resultado mais homogenio, porém ao custo de uma menor precisão nos casos onde o produto não seria comprado."
   ]
  }
 ],
 "metadata": {
  "kernelspec": {
   "display_name": "Python 3",
   "language": "python",
   "name": "python3"
  },
  "language_info": {
   "codemirror_mode": {
    "name": "ipython",
    "version": 3
   },
   "file_extension": ".py",
   "mimetype": "text/x-python",
   "name": "python",
   "nbconvert_exporter": "python",
   "pygments_lexer": "ipython3",
   "version": "3.12.2"
  }
 },
 "nbformat": 4,
 "nbformat_minor": 5
}
